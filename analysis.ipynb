{
 "cells": [
  {
   "cell_type": "code",
   "execution_count": 2,
   "metadata": {},
   "outputs": [],
   "source": [
    "import pandas as pd\n",
    "import openpyxl \n",
    "import numpy as np\n",
    "import matplotlib.pyplot as plt\n",
    "import seaborn as sns"
   ]
  },
  {
   "cell_type": "code",
   "execution_count": 3,
   "metadata": {},
   "outputs": [],
   "source": [
    "data=pd.read_excel('Dataset.xlsx')"
   ]
  },
  {
   "cell_type": "markdown",
   "metadata": {},
   "source": [
    "Initial Inspection i.e Data Exploration"
   ]
  },
  {
   "cell_type": "code",
   "execution_count": 4,
   "metadata": {},
   "outputs": [
    {
     "name": "stdout",
     "output_type": "stream",
     "text": [
      "<class 'pandas.core.frame.DataFrame'>\n",
      "RangeIndex: 486 entries, 0 to 485\n",
      "Data columns (total 10 columns):\n",
      " #   Column         Non-Null Count  Dtype         \n",
      "---  ------         --------------  -----         \n",
      " 0   Date           486 non-null    datetime64[ns]\n",
      " 1   Description    486 non-null    object        \n",
      " 2   Debit          465 non-null    float64       \n",
      " 3   Credit         21 non-null     float64       \n",
      " 4   Sub-category   486 non-null    object        \n",
      " 5   Category       486 non-null    object        \n",
      " 6   Category Type  486 non-null    object        \n",
      " 7   Month Number   486 non-null    int64         \n",
      " 8   Weekday        486 non-null    datetime64[ns]\n",
      " 9   Amount         486 non-null    float64       \n",
      "dtypes: datetime64[ns](2), float64(3), int64(1), object(4)\n",
      "memory usage: 38.1+ KB\n"
     ]
    }
   ],
   "source": [
    "data.info()"
   ]
  },
  {
   "cell_type": "code",
   "execution_count": 5,
   "metadata": {},
   "outputs": [
    {
     "data": {
      "text/plain": [
       "Index(['Date', 'Description', 'Debit', 'Credit', 'Sub-category', 'Category',\n",
       "       'Category Type', 'Month Number', 'Weekday', 'Amount'],\n",
       "      dtype='object')"
      ]
     },
     "execution_count": 5,
     "metadata": {},
     "output_type": "execute_result"
    }
   ],
   "source": [
    "data.columns"
   ]
  },
  {
   "cell_type": "code",
   "execution_count": 6,
   "metadata": {},
   "outputs": [
    {
     "data": {
      "text/html": [
       "<div>\n",
       "<style scoped>\n",
       "    .dataframe tbody tr th:only-of-type {\n",
       "        vertical-align: middle;\n",
       "    }\n",
       "\n",
       "    .dataframe tbody tr th {\n",
       "        vertical-align: top;\n",
       "    }\n",
       "\n",
       "    .dataframe thead th {\n",
       "        text-align: right;\n",
       "    }\n",
       "</style>\n",
       "<table border=\"1\" class=\"dataframe\">\n",
       "  <thead>\n",
       "    <tr style=\"text-align: right;\">\n",
       "      <th></th>\n",
       "      <th>Date</th>\n",
       "      <th>Debit</th>\n",
       "      <th>Credit</th>\n",
       "      <th>Month Number</th>\n",
       "      <th>Weekday</th>\n",
       "      <th>Amount</th>\n",
       "    </tr>\n",
       "  </thead>\n",
       "  <tbody>\n",
       "    <tr>\n",
       "      <th>count</th>\n",
       "      <td>486</td>\n",
       "      <td>465.000000</td>\n",
       "      <td>21.000000</td>\n",
       "      <td>486.000000</td>\n",
       "      <td>486</td>\n",
       "      <td>486.000000</td>\n",
       "    </tr>\n",
       "    <tr>\n",
       "      <th>mean</th>\n",
       "      <td>2021-06-02 14:54:48.888888832</td>\n",
       "      <td>64.926882</td>\n",
       "      <td>3116.190476</td>\n",
       "      <td>5.534979</td>\n",
       "      <td>1900-01-03 23:21:28.888888832</td>\n",
       "      <td>72.528807</td>\n",
       "    </tr>\n",
       "    <tr>\n",
       "      <th>min</th>\n",
       "      <td>2021-01-04 00:00:00</td>\n",
       "      <td>5.000000</td>\n",
       "      <td>100.000000</td>\n",
       "      <td>1.000000</td>\n",
       "      <td>1900-01-01 00:00:00</td>\n",
       "      <td>-900.000000</td>\n",
       "    </tr>\n",
       "    <tr>\n",
       "      <th>25%</th>\n",
       "      <td>2021-03-17 00:00:00</td>\n",
       "      <td>5.000000</td>\n",
       "      <td>800.000000</td>\n",
       "      <td>3.000000</td>\n",
       "      <td>1900-01-02 00:00:00</td>\n",
       "      <td>-63.825000</td>\n",
       "    </tr>\n",
       "    <tr>\n",
       "      <th>50%</th>\n",
       "      <td>2021-06-02 00:00:00</td>\n",
       "      <td>15.000000</td>\n",
       "      <td>4500.000000</td>\n",
       "      <td>6.000000</td>\n",
       "      <td>1900-01-04 00:00:00</td>\n",
       "      <td>-5.000000</td>\n",
       "    </tr>\n",
       "    <tr>\n",
       "      <th>75%</th>\n",
       "      <td>2021-08-17 18:00:00</td>\n",
       "      <td>68.800000</td>\n",
       "      <td>5000.000000</td>\n",
       "      <td>8.000000</td>\n",
       "      <td>1900-01-06 00:00:00</td>\n",
       "      <td>-5.000000</td>\n",
       "    </tr>\n",
       "    <tr>\n",
       "      <th>max</th>\n",
       "      <td>2021-10-31 00:00:00</td>\n",
       "      <td>900.000000</td>\n",
       "      <td>5000.000000</td>\n",
       "      <td>10.000000</td>\n",
       "      <td>1900-01-07 00:00:00</td>\n",
       "      <td>5000.000000</td>\n",
       "    </tr>\n",
       "    <tr>\n",
       "      <th>std</th>\n",
       "      <td>NaN</td>\n",
       "      <td>136.654535</td>\n",
       "      <td>2184.056950</td>\n",
       "      <td>2.864250</td>\n",
       "      <td>NaN</td>\n",
       "      <td>796.117110</td>\n",
       "    </tr>\n",
       "  </tbody>\n",
       "</table>\n",
       "</div>"
      ],
      "text/plain": [
       "                                Date       Debit       Credit  Month Number  \\\n",
       "count                            486  465.000000    21.000000    486.000000   \n",
       "mean   2021-06-02 14:54:48.888888832   64.926882  3116.190476      5.534979   \n",
       "min              2021-01-04 00:00:00    5.000000   100.000000      1.000000   \n",
       "25%              2021-03-17 00:00:00    5.000000   800.000000      3.000000   \n",
       "50%              2021-06-02 00:00:00   15.000000  4500.000000      6.000000   \n",
       "75%              2021-08-17 18:00:00   68.800000  5000.000000      8.000000   \n",
       "max              2021-10-31 00:00:00  900.000000  5000.000000     10.000000   \n",
       "std                              NaN  136.654535  2184.056950      2.864250   \n",
       "\n",
       "                             Weekday       Amount  \n",
       "count                            486   486.000000  \n",
       "mean   1900-01-03 23:21:28.888888832    72.528807  \n",
       "min              1900-01-01 00:00:00  -900.000000  \n",
       "25%              1900-01-02 00:00:00   -63.825000  \n",
       "50%              1900-01-04 00:00:00    -5.000000  \n",
       "75%              1900-01-06 00:00:00    -5.000000  \n",
       "max              1900-01-07 00:00:00  5000.000000  \n",
       "std                              NaN   796.117110  "
      ]
     },
     "execution_count": 6,
     "metadata": {},
     "output_type": "execute_result"
    }
   ],
   "source": [
    "data.describe()"
   ]
  },
  {
   "cell_type": "code",
   "execution_count": 7,
   "metadata": {},
   "outputs": [
    {
     "data": {
      "text/html": [
       "<div>\n",
       "<style scoped>\n",
       "    .dataframe tbody tr th:only-of-type {\n",
       "        vertical-align: middle;\n",
       "    }\n",
       "\n",
       "    .dataframe tbody tr th {\n",
       "        vertical-align: top;\n",
       "    }\n",
       "\n",
       "    .dataframe thead th {\n",
       "        text-align: right;\n",
       "    }\n",
       "</style>\n",
       "<table border=\"1\" class=\"dataframe\">\n",
       "  <thead>\n",
       "    <tr style=\"text-align: right;\">\n",
       "      <th></th>\n",
       "      <th>Date</th>\n",
       "      <th>Description</th>\n",
       "      <th>Debit</th>\n",
       "      <th>Credit</th>\n",
       "      <th>Sub-category</th>\n",
       "      <th>Category</th>\n",
       "      <th>Category Type</th>\n",
       "      <th>Month Number</th>\n",
       "      <th>Weekday</th>\n",
       "      <th>Amount</th>\n",
       "    </tr>\n",
       "  </thead>\n",
       "  <tbody>\n",
       "    <tr>\n",
       "      <th>0</th>\n",
       "      <td>2021-01-04</td>\n",
       "      <td>Data With Decision</td>\n",
       "      <td>NaN</td>\n",
       "      <td>5000.0</td>\n",
       "      <td>Data with Decision</td>\n",
       "      <td>Salary</td>\n",
       "      <td>Income</td>\n",
       "      <td>1</td>\n",
       "      <td>1900-01-02</td>\n",
       "      <td>5000.0</td>\n",
       "    </tr>\n",
       "    <tr>\n",
       "      <th>1</th>\n",
       "      <td>2021-01-04</td>\n",
       "      <td>Drink</td>\n",
       "      <td>5.0</td>\n",
       "      <td>NaN</td>\n",
       "      <td>Coffee</td>\n",
       "      <td>Dining Out</td>\n",
       "      <td>Expense</td>\n",
       "      <td>1</td>\n",
       "      <td>1900-01-02</td>\n",
       "      <td>-5.0</td>\n",
       "    </tr>\n",
       "    <tr>\n",
       "      <th>2</th>\n",
       "      <td>2021-01-05</td>\n",
       "      <td>Estate Mangement</td>\n",
       "      <td>900.0</td>\n",
       "      <td>NaN</td>\n",
       "      <td>Rent</td>\n",
       "      <td>Living Expenses</td>\n",
       "      <td>Expense</td>\n",
       "      <td>1</td>\n",
       "      <td>1900-01-03</td>\n",
       "      <td>-900.0</td>\n",
       "    </tr>\n",
       "    <tr>\n",
       "      <th>3</th>\n",
       "      <td>2021-01-05</td>\n",
       "      <td>Financail upgrade</td>\n",
       "      <td>150.0</td>\n",
       "      <td>NaN</td>\n",
       "      <td>Cash loan</td>\n",
       "      <td>Transport</td>\n",
       "      <td>Expense</td>\n",
       "      <td>1</td>\n",
       "      <td>1900-01-03</td>\n",
       "      <td>-150.0</td>\n",
       "    </tr>\n",
       "    <tr>\n",
       "      <th>4</th>\n",
       "      <td>2021-01-05</td>\n",
       "      <td>Drink</td>\n",
       "      <td>5.0</td>\n",
       "      <td>NaN</td>\n",
       "      <td>Coffee</td>\n",
       "      <td>Dining Out</td>\n",
       "      <td>Expense</td>\n",
       "      <td>1</td>\n",
       "      <td>1900-01-03</td>\n",
       "      <td>-5.0</td>\n",
       "    </tr>\n",
       "  </tbody>\n",
       "</table>\n",
       "</div>"
      ],
      "text/plain": [
       "        Date         Description  Debit  Credit        Sub-category  \\\n",
       "0 2021-01-04  Data With Decision    NaN  5000.0  Data with Decision   \n",
       "1 2021-01-04               Drink    5.0     NaN              Coffee   \n",
       "2 2021-01-05    Estate Mangement  900.0     NaN                Rent   \n",
       "3 2021-01-05   Financail upgrade  150.0     NaN           Cash loan   \n",
       "4 2021-01-05               Drink    5.0     NaN              Coffee   \n",
       "\n",
       "          Category Category Type  Month Number    Weekday  Amount  \n",
       "0           Salary        Income             1 1900-01-02  5000.0  \n",
       "1       Dining Out       Expense             1 1900-01-02    -5.0  \n",
       "2  Living Expenses       Expense             1 1900-01-03  -900.0  \n",
       "3        Transport       Expense             1 1900-01-03  -150.0  \n",
       "4       Dining Out       Expense             1 1900-01-03    -5.0  "
      ]
     },
     "execution_count": 7,
     "metadata": {},
     "output_type": "execute_result"
    }
   ],
   "source": [
    "data.head()"
   ]
  },
  {
   "cell_type": "code",
   "execution_count": 8,
   "metadata": {},
   "outputs": [
    {
     "data": {
      "text/html": [
       "<div>\n",
       "<style scoped>\n",
       "    .dataframe tbody tr th:only-of-type {\n",
       "        vertical-align: middle;\n",
       "    }\n",
       "\n",
       "    .dataframe tbody tr th {\n",
       "        vertical-align: top;\n",
       "    }\n",
       "\n",
       "    .dataframe thead th {\n",
       "        text-align: right;\n",
       "    }\n",
       "</style>\n",
       "<table border=\"1\" class=\"dataframe\">\n",
       "  <thead>\n",
       "    <tr style=\"text-align: right;\">\n",
       "      <th></th>\n",
       "      <th>Date</th>\n",
       "      <th>Description</th>\n",
       "      <th>Debit</th>\n",
       "      <th>Credit</th>\n",
       "      <th>Sub-category</th>\n",
       "      <th>Category</th>\n",
       "      <th>Category Type</th>\n",
       "      <th>Month Number</th>\n",
       "      <th>Weekday</th>\n",
       "      <th>Amount</th>\n",
       "    </tr>\n",
       "  </thead>\n",
       "  <tbody>\n",
       "    <tr>\n",
       "      <th>481</th>\n",
       "      <td>2021-10-30</td>\n",
       "      <td>Trainers</td>\n",
       "      <td>133.8</td>\n",
       "      <td>NaN</td>\n",
       "      <td>Clothes</td>\n",
       "      <td>Discretionary</td>\n",
       "      <td>Expense</td>\n",
       "      <td>10</td>\n",
       "      <td>1900-01-07</td>\n",
       "      <td>-133.8</td>\n",
       "    </tr>\n",
       "    <tr>\n",
       "      <th>482</th>\n",
       "      <td>2021-10-30</td>\n",
       "      <td>Hangingout/Ticket</td>\n",
       "      <td>184.4</td>\n",
       "      <td>NaN</td>\n",
       "      <td>Entertainment</td>\n",
       "      <td>Discretionary</td>\n",
       "      <td>Expense</td>\n",
       "      <td>10</td>\n",
       "      <td>1900-01-07</td>\n",
       "      <td>-184.4</td>\n",
       "    </tr>\n",
       "    <tr>\n",
       "      <th>483</th>\n",
       "      <td>2021-10-31</td>\n",
       "      <td>Fashionistas</td>\n",
       "      <td>154.5</td>\n",
       "      <td>NaN</td>\n",
       "      <td>Clothes</td>\n",
       "      <td>Discretionary</td>\n",
       "      <td>Expense</td>\n",
       "      <td>10</td>\n",
       "      <td>1900-01-01</td>\n",
       "      <td>-154.5</td>\n",
       "    </tr>\n",
       "    <tr>\n",
       "      <th>484</th>\n",
       "      <td>2021-10-31</td>\n",
       "      <td>Uba</td>\n",
       "      <td>32.1</td>\n",
       "      <td>NaN</td>\n",
       "      <td>Taxi</td>\n",
       "      <td>Transport</td>\n",
       "      <td>Expense</td>\n",
       "      <td>10</td>\n",
       "      <td>1900-01-01</td>\n",
       "      <td>-32.1</td>\n",
       "    </tr>\n",
       "    <tr>\n",
       "      <th>485</th>\n",
       "      <td>2021-10-31</td>\n",
       "      <td>Foodary</td>\n",
       "      <td>15.0</td>\n",
       "      <td>NaN</td>\n",
       "      <td>Restaurant</td>\n",
       "      <td>Dining Out</td>\n",
       "      <td>Expense</td>\n",
       "      <td>10</td>\n",
       "      <td>1900-01-01</td>\n",
       "      <td>-15.0</td>\n",
       "    </tr>\n",
       "  </tbody>\n",
       "</table>\n",
       "</div>"
      ],
      "text/plain": [
       "          Date        Description  Debit  Credit   Sub-category  \\\n",
       "481 2021-10-30           Trainers  133.8     NaN        Clothes   \n",
       "482 2021-10-30  Hangingout/Ticket  184.4     NaN  Entertainment   \n",
       "483 2021-10-31       Fashionistas  154.5     NaN        Clothes   \n",
       "484 2021-10-31                Uba   32.1     NaN           Taxi   \n",
       "485 2021-10-31            Foodary   15.0     NaN     Restaurant   \n",
       "\n",
       "          Category Category Type  Month Number    Weekday  Amount  \n",
       "481  Discretionary       Expense            10 1900-01-07  -133.8  \n",
       "482  Discretionary       Expense            10 1900-01-07  -184.4  \n",
       "483  Discretionary       Expense            10 1900-01-01  -154.5  \n",
       "484      Transport       Expense            10 1900-01-01   -32.1  \n",
       "485     Dining Out       Expense            10 1900-01-01   -15.0  "
      ]
     },
     "execution_count": 8,
     "metadata": {},
     "output_type": "execute_result"
    }
   ],
   "source": [
    "data.tail()"
   ]
  },
  {
   "cell_type": "markdown",
   "metadata": {},
   "source": [
    "Data Cleaning"
   ]
  },
  {
   "cell_type": "code",
   "execution_count": 9,
   "metadata": {},
   "outputs": [
    {
     "name": "stdout",
     "output_type": "stream",
     "text": [
      "Date             False\n",
      "Description      False\n",
      "Debit             True\n",
      "Credit            True\n",
      "Sub-category     False\n",
      "Category         False\n",
      "Category Type    False\n",
      "Month Number     False\n",
      "Weekday          False\n",
      "Amount           False\n",
      "dtype: bool\n",
      "Date               0\n",
      "Description        0\n",
      "Debit             21\n",
      "Credit           465\n",
      "Sub-category       0\n",
      "Category           0\n",
      "Category Type      0\n",
      "Month Number       0\n",
      "Weekday            0\n",
      "Amount             0\n",
      "dtype: int64\n"
     ]
    }
   ],
   "source": [
    "print(data.isnull().any())\n",
    "print(data.isnull().sum())\n"
   ]
  },
  {
   "cell_type": "markdown",
   "metadata": {},
   "source": [
    "These nulls are not actual \"missing\" data — they are intentional.\n",
    "This is a normal structure in many financial datasets. \n",
    "It just shows the type of transaction:\n",
    "\n",
    "Expense ->shows only in Debit\n",
    "\n",
    "Income -> shows only in Credit"
   ]
  },
  {
   "cell_type": "code",
   "execution_count": 10,
   "metadata": {},
   "outputs": [
    {
     "data": {
      "text/plain": [
       "np.int64(4)"
      ]
     },
     "execution_count": 10,
     "metadata": {},
     "output_type": "execute_result"
    }
   ],
   "source": [
    "data.duplicated().sum()"
   ]
  },
  {
   "cell_type": "code",
   "execution_count": 11,
   "metadata": {},
   "outputs": [],
   "source": [
    "data.drop_duplicates(inplace=True)"
   ]
  },
  {
   "cell_type": "code",
   "execution_count": 12,
   "metadata": {},
   "outputs": [
    {
     "data": {
      "text/plain": [
       "np.int64(0)"
      ]
     },
     "execution_count": 12,
     "metadata": {},
     "output_type": "execute_result"
    }
   ],
   "source": [
    "data.duplicated().sum()"
   ]
  },
  {
   "cell_type": "markdown",
   "metadata": {},
   "source": [
    "Extracting weekdays from date column for grouping and analyzing trends over time (e.g. which weekdays have the most spending)."
   ]
  },
  {
   "cell_type": "code",
   "execution_count": 13,
   "metadata": {},
   "outputs": [],
   "source": [
    "data['WeekDay_Name']=data['Date'].dt.day_name()"
   ]
  },
  {
   "cell_type": "code",
   "execution_count": 14,
   "metadata": {},
   "outputs": [],
   "source": [
    "data['Month_Name']=data['Date'].dt.month_name().sort_index()"
   ]
  },
  {
   "cell_type": "code",
   "execution_count": 15,
   "metadata": {},
   "outputs": [
    {
     "data": {
      "text/plain": [
       "Index(['Date', 'Description', 'Debit', 'Credit', 'Sub-category', 'Category',\n",
       "       'Category Type', 'Month Number', 'Weekday', 'Amount', 'WeekDay_Name',\n",
       "       'Month_Name'],\n",
       "      dtype='object')"
      ]
     },
     "execution_count": 15,
     "metadata": {},
     "output_type": "execute_result"
    }
   ],
   "source": [
    "data.columns"
   ]
  },
  {
   "cell_type": "markdown",
   "metadata": {},
   "source": [
    "Performing Key Analysis"
   ]
  },
  {
   "cell_type": "code",
   "execution_count": 16,
   "metadata": {},
   "outputs": [
    {
     "data": {
      "image/png": "[encoded data removed]",
      "text/plain": [
       "<Figure size 1000x600 with 1 Axes>"
      ]
     },
     "metadata": {},
     "output_type": "display_data"
    }
   ],
   "source": [
    "\n",
    "category_spending = data.groupby('Category')['Amount'].sum().sort_values()\n",
    "category_spending.plot(kind='barh', figsize=(10, 6), color='skyblue')\n",
    "plt.title('Total Spending by Category')\n",
    "plt.xlabel('Amount')\n",
    "plt.ylabel('Category')\n",
    "plt.tight_layout()\n",
    "plt.show()\n"
   ]
  },
  {
   "cell_type": "markdown",
   "metadata": {},
   "source": [
    "1.Overall Income Vs Expenses"
   ]
  },
  {
   "cell_type": "code",
   "execution_count": 17,
   "metadata": {},
   "outputs": [
    {
     "data": {
      "text/plain": [
       "np.float64(30171.0)"
      ]
     },
     "execution_count": 17,
     "metadata": {},
     "output_type": "execute_result"
    }
   ],
   "source": [
    "# Total Expenses = sum of all debit values.\n",
    "data['Debit'].sum()"
   ]
  },
  {
   "cell_type": "code",
   "execution_count": 18,
   "metadata": {},
   "outputs": [
    {
     "data": {
      "text/plain": [
       "np.float64(65440.0)"
      ]
     },
     "execution_count": 18,
     "metadata": {},
     "output_type": "execute_result"
    }
   ],
   "source": [
    "# Total Income = sum of all credit values.\n",
    "data['Credit'].sum()"
   ]
  },
  {
   "cell_type": "code",
   "execution_count": 19,
   "metadata": {},
   "outputs": [
    {
     "data": {
      "image/png": "[encoded data removed]",
      "text/plain": [
       "<Figure size 640x480 with 1 Axes>"
      ]
     },
     "metadata": {},
     "output_type": "display_data"
    }
   ],
   "source": [
    "\n",
    "monthly = data.groupby('Month_Name')[['Credit', 'Debit']].sum().reset_index()\n",
    "monthly_melted = monthly.melt(id_vars='Month_Name', var_name='Type', value_name='Amount')\n",
    "\n",
    "sns.barplot(data=monthly_melted, x='Month_Name', y='Amount', hue='Type')\n",
    "plt.title('Monthly Income vs Expenses')\n",
    "plt.xticks(rotation=45)\n",
    "plt.tight_layout()\n",
    "plt.show()"
   ]
  },
  {
   "cell_type": "markdown",
   "metadata": {},
   "source": [
    "2.Monthly Trends"
   ]
  },
  {
   "cell_type": "code",
   "execution_count": 20,
   "metadata": {},
   "outputs": [
    {
     "data": {
      "text/html": [
       "<div>\n",
       "<style scoped>\n",
       "    .dataframe tbody tr th:only-of-type {\n",
       "        vertical-align: middle;\n",
       "    }\n",
       "\n",
       "    .dataframe tbody tr th {\n",
       "        vertical-align: top;\n",
       "    }\n",
       "\n",
       "    .dataframe thead th {\n",
       "        text-align: right;\n",
       "    }\n",
       "</style>\n",
       "<table border=\"1\" class=\"dataframe\">\n",
       "  <thead>\n",
       "    <tr style=\"text-align: right;\">\n",
       "      <th></th>\n",
       "      <th>Credit</th>\n",
       "      <th>Debit</th>\n",
       "      <th>Amount</th>\n",
       "    </tr>\n",
       "    <tr>\n",
       "      <th>Month_Name</th>\n",
       "      <th></th>\n",
       "      <th></th>\n",
       "      <th></th>\n",
       "    </tr>\n",
       "  </thead>\n",
       "  <tbody>\n",
       "    <tr>\n",
       "      <th>April</th>\n",
       "      <td>7340.0</td>\n",
       "      <td>3038.0</td>\n",
       "      <td>4302.0</td>\n",
       "    </tr>\n",
       "    <tr>\n",
       "      <th>August</th>\n",
       "      <td>5800.0</td>\n",
       "      <td>2947.1</td>\n",
       "      <td>2852.9</td>\n",
       "    </tr>\n",
       "    <tr>\n",
       "      <th>February</th>\n",
       "      <td>5800.0</td>\n",
       "      <td>2904.6</td>\n",
       "      <td>2895.4</td>\n",
       "    </tr>\n",
       "    <tr>\n",
       "      <th>January</th>\n",
       "      <td>14000.0</td>\n",
       "      <td>2874.0</td>\n",
       "      <td>11126.0</td>\n",
       "    </tr>\n",
       "    <tr>\n",
       "      <th>July</th>\n",
       "      <td>5200.0</td>\n",
       "      <td>3065.0</td>\n",
       "      <td>2135.0</td>\n",
       "    </tr>\n",
       "    <tr>\n",
       "      <th>June</th>\n",
       "      <td>5100.0</td>\n",
       "      <td>3000.7</td>\n",
       "      <td>2099.3</td>\n",
       "    </tr>\n",
       "    <tr>\n",
       "      <th>March</th>\n",
       "      <td>6000.0</td>\n",
       "      <td>3049.7</td>\n",
       "      <td>2950.3</td>\n",
       "    </tr>\n",
       "    <tr>\n",
       "      <th>May</th>\n",
       "      <td>6000.0</td>\n",
       "      <td>3116.1</td>\n",
       "      <td>2883.9</td>\n",
       "    </tr>\n",
       "    <tr>\n",
       "      <th>October</th>\n",
       "      <td>5100.0</td>\n",
       "      <td>3093.7</td>\n",
       "      <td>2006.3</td>\n",
       "    </tr>\n",
       "    <tr>\n",
       "      <th>September</th>\n",
       "      <td>5100.0</td>\n",
       "      <td>3082.1</td>\n",
       "      <td>2017.9</td>\n",
       "    </tr>\n",
       "  </tbody>\n",
       "</table>\n",
       "</div>"
      ],
      "text/plain": [
       "             Credit   Debit   Amount\n",
       "Month_Name                          \n",
       "April        7340.0  3038.0   4302.0\n",
       "August       5800.0  2947.1   2852.9\n",
       "February     5800.0  2904.6   2895.4\n",
       "January     14000.0  2874.0  11126.0\n",
       "July         5200.0  3065.0   2135.0\n",
       "June         5100.0  3000.7   2099.3\n",
       "March        6000.0  3049.7   2950.3\n",
       "May          6000.0  3116.1   2883.9\n",
       "October      5100.0  3093.7   2006.3\n",
       "September    5100.0  3082.1   2017.9"
      ]
     },
     "execution_count": 20,
     "metadata": {},
     "output_type": "execute_result"
    }
   ],
   "source": [
    "data.groupby('Month_Name')[['Credit', 'Debit', 'Amount']].sum()\n"
   ]
  },
  {
   "cell_type": "markdown",
   "metadata": {},
   "source": [
    "3.Category-wise Spending"
   ]
  },
  {
   "cell_type": "code",
   "execution_count": 21,
   "metadata": {},
   "outputs": [
    {
     "data": {
      "text/plain": [
       "Category\n",
       "Charity             -550.0\n",
       "Dining Out         -2453.9\n",
       "Discretionary      -7027.6\n",
       "Living Expenses   -16399.8\n",
       "Medical             -225.0\n",
       "Passive            15440.0\n",
       "Salary             50000.0\n",
       "Transport          -3514.7\n",
       "Name: Amount, dtype: float64"
      ]
     },
     "execution_count": 21,
     "metadata": {},
     "output_type": "execute_result"
    }
   ],
   "source": [
    "data.groupby('Category')['Amount'].sum()"
   ]
  },
  {
   "cell_type": "code",
   "execution_count": 22,
   "metadata": {},
   "outputs": [
    {
     "data": {
      "text/plain": [
       "Sub-category\n",
       "Cash loan             -1500.0\n",
       "Clothes               -4303.6\n",
       "Coffee                -1172.0\n",
       "Data with Decision    50000.0\n",
       "Doctor                 -225.0\n",
       "Donation               -550.0\n",
       "Entertainment         -1812.6\n",
       "Fueling               -1412.5\n",
       "Furnishings            -416.4\n",
       "Gas/Electrics          -545.7\n",
       "Gifts                  -495.0\n",
       "Groceries             -6454.1\n",
       "Phone                  -400.0\n",
       "Rent                  -9000.0\n",
       "Restaurant            -1281.9\n",
       "Taxi                   -602.2\n",
       "Teachable              4500.0\n",
       "YouTube               10940.0\n",
       "Name: Amount, dtype: float64"
      ]
     },
     "execution_count": 22,
     "metadata": {},
     "output_type": "execute_result"
    }
   ],
   "source": [
    "data.groupby('Sub-category')['Amount'].sum()"
   ]
  },
  {
   "cell_type": "markdown",
   "metadata": {},
   "source": [
    "4.Spending by Weekday"
   ]
  },
  {
   "cell_type": "code",
   "execution_count": 23,
   "metadata": {},
   "outputs": [
    {
     "data": {
      "text/plain": [
       "WeekDay_Name\n",
       "Friday          49.2\n",
       "Monday       26697.0\n",
       "Saturday     -3241.0\n",
       "Sunday        2325.4\n",
       "Thursday      8191.8\n",
       "Tuesday       4705.9\n",
       "Wednesday    -3459.3\n",
       "Name: Amount, dtype: float64"
      ]
     },
     "execution_count": 23,
     "metadata": {},
     "output_type": "execute_result"
    }
   ],
   "source": [
    "data.groupby('WeekDay_Name')['Amount'].sum()"
   ]
  },
  {
   "cell_type": "code",
   "execution_count": 24,
   "metadata": {},
   "outputs": [
    {
     "data": {
      "image/png": "[encoded data removed]",
      "text/plain": [
       "<Figure size 800x500 with 1 Axes>"
      ]
     },
     "metadata": {},
     "output_type": "display_data"
    }
   ],
   "source": [
    "weekday_spending = data.groupby('WeekDay_Name')['Amount'].sum()\n",
    "\n",
    "weekday_spending.plot(kind='bar', figsize=(8, 5), color='orange')\n",
    "plt.title('Spending by Weekday')\n",
    "plt.xlabel('Weekday')\n",
    "plt.ylabel('Total Amount')\n",
    "plt.xticks(rotation=45)\n",
    "plt.tight_layout()\n",
    "plt.show()\n"
   ]
  },
  {
   "cell_type": "markdown",
   "metadata": {},
   "source": [
    "5.Essential vs Non-Essential"
   ]
  },
  {
   "cell_type": "code",
   "execution_count": 25,
   "metadata": {},
   "outputs": [],
   "source": [
    "# Define essential categories\n",
    "essential_categories = [\n",
    "    'Living Expenses', 'Transport', 'Medical', 'Groceries', 'Utilities'\n",
    "]\n",
    "\n",
    "# Create a new column based on the Category\n",
    "data['Category_Type'] = data['Category'].apply(\n",
    "    lambda x: 'Essential' if x in essential_categories else 'Non-Essential'\n",
    ")\n"
   ]
  },
  {
   "cell_type": "code",
   "execution_count": 26,
   "metadata": {},
   "outputs": [
    {
     "data": {
      "text/plain": [
       "array(['Non-Essential', 'Essential'], dtype=object)"
      ]
     },
     "execution_count": 26,
     "metadata": {},
     "output_type": "execute_result"
    }
   ],
   "source": [
    "data['Category_Type'].unique()"
   ]
  },
  {
   "cell_type": "code",
   "execution_count": 27,
   "metadata": {},
   "outputs": [
    {
     "data": {
      "text/plain": [
       "Category_Type\n",
       "Non-Essential    360\n",
       "Essential        122\n",
       "Name: count, dtype: int64"
      ]
     },
     "execution_count": 27,
     "metadata": {},
     "output_type": "execute_result"
    }
   ],
   "source": [
    "data['Category_Type'].value_counts()"
   ]
  },
  {
   "cell_type": "markdown",
   "metadata": {},
   "source": [
    "6.Top Expenses"
   ]
  },
  {
   "cell_type": "code",
   "execution_count": 36,
   "metadata": {},
   "outputs": [
    {
     "name": "stdout",
     "output_type": "stream",
     "text": [
      "          Category   Amount\n",
      "0  Living Expenses  16399.8\n",
      "1    Discretionary   7027.6\n",
      "2        Transport   3514.7\n",
      "3       Dining Out   2453.9\n",
      "4          Charity    550.0\n"
     ]
    }
   ],
   "source": [
    "top_expense = data[data['Amount'] < 0].groupby('Category')['Amount'].sum().abs().nlargest(5).reset_index()\n",
    "print(top_expense)\n"
   ]
  },
  {
   "cell_type": "code",
   "execution_count": 29,
   "metadata": {},
   "outputs": [
    {
     "name": "stdout",
     "output_type": "stream",
     "text": [
      "Description\n",
      "Drink                219\n",
      "Green's               40\n",
      "Fuel                  20\n",
      "Fashionistas          20\n",
      "Uba                   20\n",
      "Power source          10\n",
      "Financail upgrade     10\n",
      "Cinemas               10\n",
      "Estate Mangement      10\n",
      "Burger                10\n",
      "Name: count, dtype: int64\n"
     ]
    }
   ],
   "source": [
    "# Count how often each description appears (for recurring purchases)\n",
    "frequent_spending = expenses['Description'].value_counts().head(10)\n",
    "print(frequent_spending)\n"
   ]
  },
  {
   "cell_type": "code",
   "execution_count": 30,
   "metadata": {},
   "outputs": [
    {
     "data": {
      "image/png": "[encoded data removed]",
      "text/plain": [
       "<Figure size 640x480 with 1 Axes>"
      ]
     },
     "metadata": {},
     "output_type": "display_data"
    }
   ],
   "source": [
    "top_expense = data[data['Amount'] < 0].groupby('Category')['Amount'].sum().abs().nlargest(5).reset_index()\n",
    "\n",
    "sns.barplot(data=top_expense, x='Amount', y='Category')\n",
    "plt.title('Top 5 Expense Categories')\n",
    "plt.tight_layout()\n",
    "plt.show()\n"
   ]
  },
  {
   "cell_type": "code",
   "execution_count": 31,
   "metadata": {},
   "outputs": [],
   "source": [
    "\n",
    "data.to_csv('Dataset_cleaned.csv', index=False)"
   ]
  }
 ],
 "metadata": {
  "kernelspec": {
   "display_name": "Python 3",
   "language": "python",
   "name": "python3"
  },
  "language_info": {
   "codemirror_mode": {
    "name": "ipython",
    "version": 3
   },
   "file_extension": ".py",
   "mimetype": "text/x-python",
   "name": "python",
   "nbconvert_exporter": "python",
   "pygments_lexer": "ipython3",
   "version": "3.12.4"
  }
 },
 "nbformat": 4,
 "nbformat_minor": 2
}
